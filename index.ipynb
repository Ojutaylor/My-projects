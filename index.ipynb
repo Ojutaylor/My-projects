{
  "cells": [
    {
      "cell_type": "markdown",
      "metadata": {
        "id": "view-in-github",
        "colab_type": "text"
      },
      "source": [
        "<a href=\"https://colab.research.google.com/github/Ojutaylor/My-projects/blob/main/index.ipynb\" target=\"_parent\"><img src=\"https://colab.research.google.com/assets/colab-badge.svg\" alt=\"Open In Colab\"/></a>"
      ]
    },
    {
      "cell_type": "markdown",
      "metadata": {
        "id": "TfHyo0lCojoE"
      },
      "source": [
        "# Website A/B Testing - Lab\n",
        "\n",
        "## Introduction\n",
        "\n",
        "In this lab, you'll get another chance to practice your skills at conducting a full A/B test analysis. It will also be a chance to practice your data exploration and processing skills! The scenario you'll be investigating is data collected from the homepage of a music app page for audacity.\n",
        "\n",
        "## Objectives\n",
        "\n",
        "You will be able to:\n",
        "* Analyze the data from a website A/B test to draw relevant conclusions\n",
        "* Explore and analyze web action data"
      ]
    },
    {
      "cell_type": "markdown",
      "metadata": {
        "id": "v6XR7Tb6ojoN"
      },
      "source": [
        "## Exploratory Analysis\n",
        "\n",
        "Start by loading in the dataset stored in the file 'homepage_actions.csv'. Then conduct an exploratory analysis to get familiar with the data."
      ]
    },
    {
      "cell_type": "markdown",
      "metadata": {
        "id": "Qw0cqdfAojoO"
      },
      "source": [
        "> Hints:\n",
        "    * Start investigating the id column:\n",
        "        * How many viewers also clicked?\n",
        "        * Are there any anomalies with the data; did anyone click who didn't view?\n",
        "        * Is there any overlap between the control and experiment groups? \n",
        "            * If so, how do you plan to account for this in your experimental design?"
      ]
    },
    {
      "cell_type": "code",
      "execution_count": null,
      "metadata": {
        "id": "g4iwU4pJojoP"
      },
      "outputs": [],
      "source": [
        "#Your code here"
      ]
    },
    {
      "cell_type": "markdown",
      "metadata": {
        "id": "WwkkcdykojoR"
      },
      "source": [
        "## Conduct a Statistical Test\n",
        "\n",
        "Conduct a statistical test to determine whether the experimental homepage was more effective than that of the control group."
      ]
    },
    {
      "cell_type": "code",
      "execution_count": null,
      "metadata": {
        "id": "Qb4kYFeLojoS"
      },
      "outputs": [],
      "source": [
        "#Your code here"
      ]
    },
    {
      "cell_type": "markdown",
      "metadata": {
        "id": "ixmMconxojoS"
      },
      "source": [
        "## Verifying Results\n",
        "\n",
        "One sensible formulation of the data to answer the hypothesis test above would be to create a binary variable representing each individual in the experiment and control group. This binary variable would represent whether or not that individual clicked on the homepage; 1 for they did and 0 if they did not. \n",
        "\n",
        "The variance for the number of successes in a sample of a binomial variable with n observations is given by:\n",
        "\n",
        "## $n\\bullet p (1-p)$\n",
        "\n",
        "Given this, perform 3 steps to verify the results of your statistical test:\n",
        "1. Calculate the expected number of clicks for the experiment group, if it had the same click-through rate as that of the control group. \n",
        "2. Calculate the number of standard deviations that the actual number of clicks was from this estimate. \n",
        "3. Finally, calculate a p-value using the normal distribution based on this z-score."
      ]
    },
    {
      "cell_type": "markdown",
      "metadata": {
        "id": "s5sz9OhyojoT"
      },
      "source": [
        "### Step 1:\n",
        "Calculate the expected number of clicks for the experiment group, if it had the same click-through rate as that of the control group. "
      ]
    },
    {
      "cell_type": "code",
      "execution_count": null,
      "metadata": {
        "id": "aY1pSpSoojoU"
      },
      "outputs": [],
      "source": [
        "#Your code here"
      ]
    },
    {
      "cell_type": "markdown",
      "metadata": {
        "id": "WTyJ5xF7ojoV"
      },
      "source": [
        "### Step 2:\n",
        "Calculate the number of standard deviations that the actual number of clicks was from this estimate."
      ]
    },
    {
      "cell_type": "code",
      "execution_count": null,
      "metadata": {
        "id": "OoZWVSzPojoV"
      },
      "outputs": [],
      "source": [
        "#Your code here"
      ]
    },
    {
      "cell_type": "markdown",
      "metadata": {
        "id": "pYxBjlLIojoW"
      },
      "source": [
        "### Step 3: \n",
        "Finally, calculate a p-value using the normal distribution based on this z-score."
      ]
    },
    {
      "cell_type": "code",
      "execution_count": null,
      "metadata": {
        "id": "T2OcTIJYojoW"
      },
      "outputs": [],
      "source": [
        "#Your code here"
      ]
    },
    {
      "cell_type": "markdown",
      "metadata": {
        "id": "s9rjDTA4ojoW"
      },
      "source": [
        "### Analysis:\n",
        "\n",
        "Does this result roughly match that of the previous statistical test?\n",
        "\n",
        "> Comment: **Your analysis here**"
      ]
    },
    {
      "cell_type": "markdown",
      "metadata": {
        "id": "sfKgSj2zojoX"
      },
      "source": [
        "## Summary\n",
        "\n",
        "In this lab, you continued to get more practice designing and conducting AB tests. This required additional work preprocessing and formulating the initial problem in a suitable manner. Additionally, you also saw how to verify results, strengthening your knowledge of binomial variables, and reviewing initial statistical concepts of the central limit theorem, standard deviation, z-scores, and their accompanying p-values."
      ]
    }
  ],
  "metadata": {
    "kernelspec": {
      "display_name": "Python 3",
      "language": "python",
      "name": "python3"
    },
    "language_info": {
      "codemirror_mode": {
        "name": "ipython",
        "version": 3
      },
      "file_extension": ".py",
      "mimetype": "text/x-python",
      "name": "python",
      "nbconvert_exporter": "python",
      "pygments_lexer": "ipython3",
      "version": "3.6.6"
    },
    "colab": {
      "provenance": [],
      "include_colab_link": true
    }
  },
  "nbformat": 4,
  "nbformat_minor": 0
}